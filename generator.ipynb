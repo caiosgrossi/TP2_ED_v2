{
 "cells": [
  {
   "cell_type": "code",
   "execution_count": 13,
   "metadata": {},
   "outputs": [],
   "source": [
    "# Importações necessárias\n",
    "import random\n",
    "import os\n",
    "\n",
    "# Função geradora de dados\n",
    "def generator(vertices, density, portals, randEnergy):\n",
    "    total_edges = int(density * vertices * (vertices - 1))\n",
    "    \n",
    "    if total_edges < portals:\n",
    "        raise ValueError(\"A quantidade de portais escolhida ultrapassa o limite de arcos\")\n",
    "\n",
    "    edges = int(total_edges - portals)\n",
    "\n",
    "    E = set()\n",
    "    while len(E) < edges:\n",
    "        u = random.randint(0, vertices - 1)\n",
    "        v = random.randint(0, vertices - 1)\n",
    "        if u != v:\n",
    "            E.add((u, v))\n",
    "\n",
    "    P = set()\n",
    "    while len(P) < portals:\n",
    "        u = random.randint(0, vertices - 1)\n",
    "        v = random.randint(0, vertices - 1)\n",
    "        if u != v and (u, v) not in E:\n",
    "            P.add((u, v))\n",
    "\n",
    "    coordinates = [(random.uniform(0, 1000), random.uniform(0, 1000)) for _ in range(vertices)]\n",
    "    \n",
    "    if (randEnergy) : energy = random.uniform(0, 100)\n",
    "    else : energy = 0x3f3f3f3f\n",
    "    portal_usage = random.randint(0, portals)\n",
    "\n",
    "    input_data = []\n",
    "    input_data.append(f\"{vertices} {edges} {portals}\")\n",
    "\n",
    "    for x, y in coordinates:\n",
    "        input_data.append(f\"{x:.3f} {y:.3f}\")\n",
    "\n",
    "    for e in E:\n",
    "        input_data.append(f\"{e[0]} {e[1]}\")\n",
    "\n",
    "    for p in P:\n",
    "        input_data.append(f\"{p[0]} {p[1]}\")\n",
    "\n",
    "    input_data.append(f\"{energy:.3f} {portal_usage}\")\n",
    "\n",
    "    return \"\\n\".join(input_data)\n"
   ]
  },
  {
   "cell_type": "code",
   "execution_count": 18,
   "metadata": {},
   "outputs": [
    {
     "ename": "PermissionError",
     "evalue": "[Errno 13] Permission denied: '/inputs'",
     "output_type": "error",
     "traceback": [
      "\u001b[0;31m---------------------------------------------------------------------------\u001b[0m",
      "\u001b[0;31mPermissionError\u001b[0m                           Traceback (most recent call last)",
      "Cell \u001b[0;32mIn[18], line 12\u001b[0m\n\u001b[1;32m     10\u001b[0m \u001b[38;5;66;03m# Verificação e criação do diretório\u001b[39;00m\n\u001b[1;32m     11\u001b[0m \u001b[38;5;28;01mif\u001b[39;00m \u001b[38;5;129;01mnot\u001b[39;00m os\u001b[38;5;241m.\u001b[39mpath\u001b[38;5;241m.\u001b[39mexists(directory):\n\u001b[0;32m---> 12\u001b[0m     \u001b[43mos\u001b[49m\u001b[38;5;241;43m.\u001b[39;49m\u001b[43mmakedirs\u001b[49m\u001b[43m(\u001b[49m\u001b[43mdirectory\u001b[49m\u001b[43m)\u001b[49m\n\u001b[1;32m     14\u001b[0m \u001b[38;5;66;03m# Salvamento dos dados no arquivo\u001b[39;00m\n\u001b[1;32m     15\u001b[0m filename \u001b[38;5;241m=\u001b[39m os\u001b[38;5;241m.\u001b[39mpath\u001b[38;5;241m.\u001b[39mjoin(directory, \u001b[38;5;124m\"\u001b[39m\u001b[38;5;124minput.txt\u001b[39m\u001b[38;5;124m\"\u001b[39m)\n",
      "File \u001b[0;32m/usr/lib/python3.10/os.py:215\u001b[0m, in \u001b[0;36mmakedirs\u001b[0;34m(name, mode, exist_ok)\u001b[0m\n\u001b[1;32m    213\u001b[0m \u001b[38;5;28;01mif\u001b[39;00m head \u001b[38;5;129;01mand\u001b[39;00m tail \u001b[38;5;129;01mand\u001b[39;00m \u001b[38;5;129;01mnot\u001b[39;00m path\u001b[38;5;241m.\u001b[39mexists(head):\n\u001b[1;32m    214\u001b[0m     \u001b[38;5;28;01mtry\u001b[39;00m:\n\u001b[0;32m--> 215\u001b[0m         \u001b[43mmakedirs\u001b[49m\u001b[43m(\u001b[49m\u001b[43mhead\u001b[49m\u001b[43m,\u001b[49m\u001b[43m \u001b[49m\u001b[43mexist_ok\u001b[49m\u001b[38;5;241;43m=\u001b[39;49m\u001b[43mexist_ok\u001b[49m\u001b[43m)\u001b[49m\n\u001b[1;32m    216\u001b[0m     \u001b[38;5;28;01mexcept\u001b[39;00m \u001b[38;5;167;01mFileExistsError\u001b[39;00m:\n\u001b[1;32m    217\u001b[0m         \u001b[38;5;66;03m# Defeats race condition when another thread created the path\u001b[39;00m\n\u001b[1;32m    218\u001b[0m         \u001b[38;5;28;01mpass\u001b[39;00m\n",
      "File \u001b[0;32m/usr/lib/python3.10/os.py:225\u001b[0m, in \u001b[0;36mmakedirs\u001b[0;34m(name, mode, exist_ok)\u001b[0m\n\u001b[1;32m    223\u001b[0m         \u001b[38;5;28;01mreturn\u001b[39;00m\n\u001b[1;32m    224\u001b[0m \u001b[38;5;28;01mtry\u001b[39;00m:\n\u001b[0;32m--> 225\u001b[0m     \u001b[43mmkdir\u001b[49m\u001b[43m(\u001b[49m\u001b[43mname\u001b[49m\u001b[43m,\u001b[49m\u001b[43m \u001b[49m\u001b[43mmode\u001b[49m\u001b[43m)\u001b[49m\n\u001b[1;32m    226\u001b[0m \u001b[38;5;28;01mexcept\u001b[39;00m \u001b[38;5;167;01mOSError\u001b[39;00m:\n\u001b[1;32m    227\u001b[0m     \u001b[38;5;66;03m# Cannot rely on checking for EEXIST, since the operating system\u001b[39;00m\n\u001b[1;32m    228\u001b[0m     \u001b[38;5;66;03m# could give priority to other errors like EACCES or EROFS\u001b[39;00m\n\u001b[1;32m    229\u001b[0m     \u001b[38;5;28;01mif\u001b[39;00m \u001b[38;5;129;01mnot\u001b[39;00m exist_ok \u001b[38;5;129;01mor\u001b[39;00m \u001b[38;5;129;01mnot\u001b[39;00m path\u001b[38;5;241m.\u001b[39misdir(name):\n",
      "\u001b[0;31mPermissionError\u001b[0m: [Errno 13] Permission denied: '/inputs'"
     ]
    }
   ],
   "source": [
    "# Parâmetros de entrada\n",
    "vertices = 10  # Altere conforme necessário\n",
    "density = 0.5  # Altere conforme necessário\n",
    "portals = 0  # Altere conforme necessário\n",
    "directory = \"inputs/densidade_0.1-no-portals\"  # Altere para o diretório desejado\n",
    "\n",
    "# Geração dos dados\n",
    "input_data = generator(vertices, density, portals, randEnergy=False)\n",
    "\n",
    "# Verificação e criação do diretório\n",
    "if not os.path.exists(directory):\n",
    "    os.makedirs(directory)\n",
    "    \n",
    "# Salvamento dos dados no arquivo\n",
    "filename = os.path.join(directory, \"input.txt\")\n",
    "counter = 1\n",
    "while True:\n",
    "    try:\n",
    "        with open(filename, 'x') as file:\n",
    "            file.write(input_data)\n",
    "            break\n",
    "\n",
    "    except FileExistsError:\n",
    "        filename = os.path.join(directory, f\"input_{counter}.txt\")\n",
    "        counter += 1\n",
    "\n",
    "print(f\"Arquivo salvo como: {filename}\")\n"
   ]
  }
 ],
 "metadata": {
  "language_info": {
   "name": "python"
  }
 },
 "nbformat": 4,
 "nbformat_minor": 2
}
